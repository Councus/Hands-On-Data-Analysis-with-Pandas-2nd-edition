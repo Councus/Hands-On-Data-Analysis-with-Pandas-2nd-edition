{
 "cells": [
  {
   "cell_type": "markdown",
   "metadata": {},
   "source": [
    "# Coding exercises\n",
    "Exercises 1-3 are thought exercises that don't require coding. If you need a Python crash-course/refresher, work through the [`python_101.ipynb`](./python_101.ipynb) notebook in chapter 1.\n",
    "\n",
    "## Exercise 4: Generate the data by running this cell\n",
    "This will give you a list of numbers to work with in the remaining exercises."
   ]
  },
  {
   "cell_type": "code",
   "execution_count": 1,
   "metadata": {},
   "outputs": [],
   "source": [
    "import random\n",
    "\n",
    "random.seed(0)\n",
    "salaries = [round(random.random()*1000000, -3) for _ in range(100)]"
   ]
  },
  {
   "cell_type": "markdown",
   "metadata": {},
   "source": [
    "## Exercise 5: Calculating statistics and verifying\n",
    "### mean"
   ]
  },
  {
   "cell_type": "markdown",
   "metadata": {},
   "source": [
    "### median"
   ]
  },
  {
   "cell_type": "code",
   "execution_count": 3,
   "metadata": {},
   "outputs": [
    {
     "name": "stdout",
     "output_type": "stream",
     "text": [
      "585690.0\n"
     ]
    }
   ],
   "source": [
    "mean_salaries = sum(salaries)/len(salaries) \n",
    "print(mean_salaries)"
   ]
  },
  {
   "cell_type": "code",
   "execution_count": 7,
   "metadata": {
    "tags": []
   },
   "outputs": [
    {
     "name": "stdout",
     "output_type": "stream",
     "text": [
      "589000.0\n"
     ]
    }
   ],
   "source": [
    "n = sorted(salaries)\n",
    "if len(n) % 2 == 0:\n",
    "    mean_num = len(n) // 2\n",
    "    median = sum(n[mean_num - 1 : mean_num + 1]) / 2\n",
    "else:\n",
    "    mean_num = len(n) // 2\n",
    "    median = n[mean_num]\n",
    "print(median)"
   ]
  },
  {
   "cell_type": "markdown",
   "metadata": {
    "tags": []
   },
   "source": [
    "### mode"
   ]
  },
  {
   "cell_type": "code",
   "execution_count": 7,
   "metadata": {},
   "outputs": [
    {
     "name": "stdout",
     "output_type": "stream",
     "text": [
      "[477000.0],3\n"
     ]
    }
   ],
   "source": [
    "import random\n",
    "\n",
    "random.seed(0)\n",
    "salaries = [round(random.random()*1000000, -3) for _ in range(100)]\n",
    "\n",
    "def cul_mode(data):\n",
    "    frequence = {}\n",
    "    mode_list = []\n",
    "\n",
    "    for item in data:\n",
    "        if item in frequence:\n",
    "            frequence[item] += 1\n",
    "        else:\n",
    "            frequence[item] = 1\n",
    "\n",
    "    max_count = 0\n",
    "    mode = None\n",
    "\n",
    "    max_count = max(frequence.values())\n",
    "\n",
    "\n",
    "    for key,value in frequence.items():\n",
    "\n",
    "        if value == max_count:         \n",
    "            mode_list.append(key)\n",
    "\n",
    "    return mode_list,max_count\n",
    "\n",
    "data = salaries\n",
    "(mode_list,max_count) = cul_mode(data)\n",
    "\n",
    "print(mode_list,max_count,sep = \",\")\n"
   ]
  },
  {
   "cell_type": "markdown",
   "metadata": {},
   "source": [
    "### sample variance"
   ]
  },
  {
   "cell_type": "code",
   "execution_count": 10,
   "metadata": {},
   "outputs": [
    {
     "name": "stdout",
     "output_type": "stream",
     "text": [
      "70664054444.44444\n"
     ]
    }
   ],
   "source": [
    "import random\n",
    "\n",
    "random.seed(0)\n",
    "salaries = [round(random.random()*1000000, -3) for _ in range(100)]\n",
    "\n",
    "mean_salaries = sum(salaries)/len(salaries) \n",
    "\n",
    "sample_variance = 0\n",
    "\n",
    "for x in salaries:\n",
    "    sample_variance += (x - mean_salaries)**2 / (len(salaries) - 1)\n",
    "\n",
    "print(sample_variance)"
   ]
  },
  {
   "cell_type": "markdown",
   "metadata": {},
   "source": [
    "### sample standard deviation\n",
    "Remember to use Bessel's correction."
   ]
  },
  {
   "cell_type": "code",
   "execution_count": 12,
   "metadata": {},
   "outputs": [
    {
     "name": "stdout",
     "output_type": "stream",
     "text": [
      "265827.11382484\n"
     ]
    }
   ],
   "source": [
    "import random\n",
    "\n",
    "random.seed(0)\n",
    "salaries = [round(random.random()*1000000, -3) for _ in range(100)]\n",
    "\n",
    "mean_salaries = sum(salaries)/len(salaries) \n",
    "\n",
    "sample_variance = 0\n",
    "\n",
    "for x in salaries:\n",
    "    sample_variance += (x - mean_salaries)**2 / (len(salaries) - 1)\n",
    "    \n",
    "sample_standard_deviation = sample_variance**0.5\n",
    "print(sample_standard_deviation)"
   ]
  },
  {
   "cell_type": "markdown",
   "metadata": {},
   "source": [
    "## Exercise 6: Calculating more statistics\n",
    "### range"
   ]
  },
  {
   "cell_type": "code",
   "execution_count": 16,
   "metadata": {},
   "outputs": [
    {
     "name": "stdout",
     "output_type": "stream",
     "text": [
      "995000.0\n"
     ]
    }
   ],
   "source": [
    "import random\n",
    "\n",
    "random.seed(0)\n",
    "salaries = [round(random.random()*1000000, -3) for _ in range(100)]\n",
    "\n",
    "range_salaries = max(salaries) - min(salaries)\n",
    "\n",
    "print(range_salaries)"
   ]
  },
  {
   "cell_type": "markdown",
   "metadata": {},
   "source": [
    "### coefficient of variation\n",
    "Make sure to use the sample standard deviation."
   ]
  },
  {
   "cell_type": "code",
   "execution_count": 18,
   "metadata": {},
   "outputs": [
    {
     "name": "stdout",
     "output_type": "stream",
     "text": [
      "0.45386998894439035\n"
     ]
    }
   ],
   "source": [
    "import random\n",
    "\n",
    "random.seed(0)\n",
    "salaries = [round(random.random()*1000000, -3) for _ in range(100)]\n",
    "\n",
    "mean_salaries = sum(salaries)/len(salaries) \n",
    "\n",
    "sample_variance = 0\n",
    "\n",
    "for x in salaries:\n",
    "    sample_variance += (x - mean_salaries)**2 / (len(salaries) - 1)\n",
    "    \n",
    "sample_standard_deviation = sample_variance**0.5\n",
    "\n",
    "CV = sample_standard_deviation/(sum(salaries)/len(salaries))\n",
    "\n",
    "print(CV)"
   ]
  },
  {
   "cell_type": "markdown",
   "metadata": {
    "tags": []
   },
   "source": [
    "### interquartile range"
   ]
  },
  {
   "cell_type": "code",
   "execution_count": 37,
   "metadata": {},
   "outputs": [
    {
     "ename": "NameError",
     "evalue": "name 'lenth' is not defined",
     "output_type": "error",
     "traceback": [
      "\u001b[1;31m---------------------------------------------------------------------------\u001b[0m",
      "\u001b[1;31mNameError\u001b[0m                                 Traceback (most recent call last)",
      "Cell \u001b[1;32mIn[37], line 38\u001b[0m\n\u001b[0;32m     34\u001b[0m         high_median \u001b[38;5;241m=\u001b[39m median(sorted_salaries[lenth \u001b[38;5;241m/\u001b[39m\u001b[38;5;241m/\u001b[39m \u001b[38;5;241m2\u001b[39m:])\n\u001b[0;32m     36\u001b[0m     \u001b[38;5;28;01mreturn\u001b[39;00m median,low_median,high_median\n\u001b[1;32m---> 38\u001b[0m \u001b[43mcul_interquartile\u001b[49m\u001b[43m(\u001b[49m\u001b[43mdata\u001b[49m\u001b[43m)\u001b[49m\n\u001b[0;32m     39\u001b[0m \u001b[38;5;28mprint\u001b[39m(median,low_median,high_median)\n",
      "Cell \u001b[1;32mIn[37], line 26\u001b[0m, in \u001b[0;36mcul_interquartile\u001b[1;34m(data)\u001b[0m\n\u001b[0;32m     23\u001b[0m     \u001b[38;5;28;01mreturn\u001b[39;00m median\n\u001b[0;32m     25\u001b[0m \u001b[38;5;28;01mif\u001b[39;00m n \u001b[38;5;241m%\u001b[39m \u001b[38;5;241m2\u001b[39m \u001b[38;5;241m==\u001b[39m \u001b[38;5;241m0\u001b[39m \u001b[38;5;129;01mand\u001b[39;00m (n \u001b[38;5;241m/\u001b[39m \u001b[38;5;241m2\u001b[39m) \u001b[38;5;241m%\u001b[39m \u001b[38;5;241m2\u001b[39m \u001b[38;5;241m==\u001b[39m \u001b[38;5;241m0\u001b[39m:       \n\u001b[1;32m---> 26\u001b[0m     low_median \u001b[38;5;241m=\u001b[39m median(sorted_salaries[:\u001b[43mlenth\u001b[49m \u001b[38;5;241m/\u001b[39m\u001b[38;5;241m/\u001b[39m \u001b[38;5;241m2\u001b[39m])\n\u001b[0;32m     27\u001b[0m     high_median \u001b[38;5;241m=\u001b[39m median(sorted_salaries[lenth \u001b[38;5;241m/\u001b[39m\u001b[38;5;241m/\u001b[39m \u001b[38;5;241m2\u001b[39m:])\n\u001b[0;32m     29\u001b[0m \u001b[38;5;28;01melif\u001b[39;00m n \u001b[38;5;241m%\u001b[39m \u001b[38;5;241m2\u001b[39m \u001b[38;5;241m==\u001b[39m \u001b[38;5;241m0\u001b[39m \u001b[38;5;129;01mand\u001b[39;00m (n \u001b[38;5;241m/\u001b[39m \u001b[38;5;241m2\u001b[39m) \u001b[38;5;241m%\u001b[39m \u001b[38;5;241m2\u001b[39m \u001b[38;5;241m!=\u001b[39m \u001b[38;5;241m0\u001b[39m:\n",
      "\u001b[1;31mNameError\u001b[0m: name 'lenth' is not defined"
     ]
    }
   ],
   "source": [
    "import random\n",
    "\n",
    "random.seed(0)\n",
    "salaries = [round(random.random()*1000000, -3) for _ in range(100)]\n",
    "\n",
    "sorted_salaries = sorted(salaries)\n",
    "n = len(salaries)\n",
    "\n",
    "def cul_interquartile(data):\n",
    "    \n",
    "    data.sort()\n",
    "    \n",
    "    def median(dataset):\n",
    "        \n",
    "        lenth = len(dataset)\n",
    "        \n",
    "        if lenth % 2 == 0:\n",
    "            \n",
    "            median = (dataset[lenth // 2 - 1] + dataset[lenth]) / 2\n",
    "        else:\n",
    "            median = dataset[lenth // 2]\n",
    "        \n",
    "        return median\n",
    "    \n",
    "    if n % 2 == 0 and (n / 2) % 2 == 0:       \n",
    "        low_median = median(sorted_salaries[:lenth // 2])\n",
    "        high_median = median(sorted_salaries[lenth // 2:])\n",
    "        \n",
    "    elif n % 2 == 0 and (n / 2) % 2 != 0:\n",
    "        low_median = median(sorted_salaries[:lenth // 2])\n",
    "        high_median = median(sorted_salaries[lenth // 2:])\n",
    "    else:\n",
    "        low_median = median(sorted_salaries[:lenth // 2 + 1])\n",
    "        high_median = median(sorted_salaries[lenth // 2:])\n",
    "    \n",
    "    return median,low_median,high_median\n",
    "\n",
    "cul_interquartile(data)\n",
    "print(median,low_median,high_median)\n"
   ]
  },
  {
   "cell_type": "code",
   "execution_count": 33,
   "metadata": {},
   "outputs": [
    {
     "name": "stdout",
     "output_type": "stream",
     "text": [
      "Q1: 402000.0\n",
      "Q2: 589000.0\n",
      "Q3: 819500.0\n"
     ]
    }
   ],
   "source": [
    "import random\n",
    "\n",
    "random.seed(0)\n",
    "salaries = [round(random.random() * 1000000, -3) for _ in range(100)]\n",
    "\n",
    "sorted_salaries = sorted(salaries)\n",
    "n = len(salaries)\n",
    "\n",
    "def calculate_quartiles(data):\n",
    "    data.sort()\n",
    "    n = len(data)\n",
    "\n",
    "    def median(dataset):\n",
    "        length = len(dataset)\n",
    "        if length % 2 == 0:\n",
    "            return (dataset[length // 2 - 1] + dataset[length // 2]) / 2\n",
    "        else:\n",
    "            return dataset[length // 2]\n",
    "\n",
    "    Q2 = median(data)\n",
    "    \n",
    "    if n % 2 == 0:\n",
    "        lower_half = data[:n // 2]\n",
    "        upper_half = data[n // 2:]\n",
    "    else:\n",
    "        lower_half = data[:n // 2]\n",
    "        upper_half = data[n // 2 + 1:]\n",
    "\n",
    "    Q1 = median(lower_half)\n",
    "    Q3 = median(upper_half)\n",
    "\n",
    "    return Q1, Q2, Q3\n",
    "\n",
    "Q1, Q2, Q3 = calculate_quartiles(sorted_salaries)\n",
    "\n",
    "print(f\"Q1: {Q1}\")\n",
    "print(f\"Q2: {Q2}\")\n",
    "print(f\"Q3: {Q3}\")\n"
   ]
  },
  {
   "cell_type": "code",
   "execution_count": 38,
   "metadata": {},
   "outputs": [
    {
     "name": "stdout",
     "output_type": "stream",
     "text": [
      "402000.0 589000.0 819500.0\n"
     ]
    }
   ],
   "source": [
    "import random\n",
    "\n",
    "random.seed(0)\n",
    "salaries = [round(random.random() * 1000000, -3) for _ in range(100)]\n",
    "\n",
    "def calculate_quartiles(data):\n",
    "    data.sort()\n",
    "    n = len(data)\n",
    "\n",
    "    def median(dataset):\n",
    "        length = len(dataset)\n",
    "        if length % 2 == 0:\n",
    "            return (dataset[length // 2 - 1] + dataset[length // 2]) / 2\n",
    "        else:\n",
    "            return dataset[length // 2]\n",
    "\n",
    "    Q2 = median(data)\n",
    "    \n",
    "    if n % 2 == 0:\n",
    "        lower_half = data[:n // 2]\n",
    "        upper_half = data[n // 2:]\n",
    "    else:\n",
    "        lower_half = data[:n // 2]\n",
    "        upper_half = data[n // 2 + 1:]\n",
    "\n",
    "    Q1 = median(lower_half)\n",
    "    Q3 = median(upper_half)\n",
    "\n",
    "    return Q1, Q2, Q3\n",
    "\n",
    "calculate_quartiles(data)\n",
    "\n",
    "print(Q1,Q2,Q3)\n"
   ]
  },
  {
   "cell_type": "markdown",
   "metadata": {},
   "source": [
    "### quartile coefficent of dispersion"
   ]
  },
  {
   "cell_type": "code",
   "execution_count": 25,
   "metadata": {},
   "outputs": [
    {
     "name": "stdout",
     "output_type": "stream",
     "text": [
      "Q1: 5.5\n",
      "Q2 (Median): 9.5\n",
      "Q3: 13.5\n"
     ]
    }
   ],
   "source": []
  },
  {
   "cell_type": "code",
   "execution_count": 24,
   "metadata": {},
   "outputs": [
    {
     "name": "stdout",
     "output_type": "stream",
     "text": [
      "5.0\n",
      "9.5\n",
      "15.0\n"
     ]
    }
   ],
   "source": []
  },
  {
   "cell_type": "code",
   "execution_count": 26,
   "metadata": {},
   "outputs": [
    {
     "data": {
      "text/plain": [
       "array([ 5. ,  9.5, 15. ])"
      ]
     },
     "execution_count": 26,
     "metadata": {},
     "output_type": "execute_result"
    }
   ],
   "source": []
  },
  {
   "cell_type": "markdown",
   "metadata": {},
   "source": [
    "## Exercise 7: Scaling data\n",
    "### min-max scaling"
   ]
  },
  {
   "cell_type": "code",
   "execution_count": null,
   "metadata": {},
   "outputs": [],
   "source": []
  },
  {
   "cell_type": "markdown",
   "metadata": {},
   "source": [
    "### standardizing"
   ]
  },
  {
   "cell_type": "code",
   "execution_count": null,
   "metadata": {},
   "outputs": [],
   "source": []
  },
  {
   "cell_type": "markdown",
   "metadata": {},
   "source": [
    "## Exercise 8: Calculating covariance and correlation\n",
    "### covariance"
   ]
  },
  {
   "cell_type": "code",
   "execution_count": null,
   "metadata": {},
   "outputs": [],
   "source": []
  },
  {
   "cell_type": "markdown",
   "metadata": {},
   "source": [
    "### Pearson correlation coefficient ($\\rho$)"
   ]
  },
  {
   "cell_type": "code",
   "execution_count": null,
   "metadata": {},
   "outputs": [],
   "source": [
    "def mean(data):\n",
    "    return sum(data) / len(data)\n",
    "\n",
    "def pearson_correlation(x, y):\n",
    "    if len(x) != len(y):\n",
    "        raise ValueError(\"The lists x and y must have the same length\")\n",
    "    \n",
    "    n = len(x)\n",
    "    mean_x = mean(x)\n",
    "    mean_y = mean(y)\n",
    "    \n",
    "    numerator = sum((x[i] - mean_x) * (y[i] - mean_y) for i in range(n))\n",
    "    denominator = (sum((x[i] - mean_x) ** 2 for i in range(n)) * sum((y[i] - mean_y) ** 2 for i in range(n))) ** 0.5\n",
    "    \n",
    "    if denominator == 0:\n",
    "        return 0\n",
    "    \n",
    "    return numerator / denominator\n",
    "\n",
    "# 示例数据\n",
    "x = [10, 20, 30, 40, 50]\n",
    "y = [15, 25, 35, 45, 55]\n",
    "\n",
    "r = pearson_correlation(x, y)\n",
    "print(f\"Pearson correlation coefficient: {r}\")\n"
   ]
  },
  {
   "cell_type": "markdown",
   "metadata": {},
   "source": [
    "<hr>\n",
    "<div style=\"overflow: hidden; margin-bottom: 10px;\">\n",
    "    <div style=\"float: left;\">\n",
    "        <a href=\"./python_101.ipynb\">\n",
    "            <button>Python 101</button>\n",
    "        </a>\n",
    "    </div>\n",
    "    <div style=\"float: right;\">\n",
    "        <a href=\"../../solutions/ch_01/solutions.ipynb\">\n",
    "            <button>Solutions</button>\n",
    "        </a>\n",
    "        <a href=\"../ch_02/1-pandas_data_structures.ipynb\">\n",
    "            <button>Chapter 2 &#8594;</button>\n",
    "        </a>\n",
    "    </div>\n",
    "</div>\n",
    "<hr>"
   ]
  }
 ],
 "metadata": {
  "kernelspec": {
   "display_name": "Python 3 (ipykernel)",
   "language": "python",
   "name": "python3"
  },
  "language_info": {
   "codemirror_mode": {
    "name": "ipython",
    "version": 3
   },
   "file_extension": ".py",
   "mimetype": "text/x-python",
   "name": "python",
   "nbconvert_exporter": "python",
   "pygments_lexer": "ipython3",
   "version": "3.11.4"
  }
 },
 "nbformat": 4,
 "nbformat_minor": 4
}
